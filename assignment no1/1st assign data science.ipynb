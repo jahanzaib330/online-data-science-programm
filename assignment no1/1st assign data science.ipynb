{
 "cells": [
  {
   "cell_type": "code",
   "execution_count": 1,
   "id": "f96b3797",
   "metadata": {},
   "outputs": [
    {
     "name": "stdout",
     "output_type": "stream",
     "text": [
      "Twinkel,twinkel,little star \n",
      "         How I wounder what you are! \n",
      "             Up above the world so high, \n",
      "             Like a diamond in the sky. \n",
      "Twinkel,twinkel,little star, \n",
      "         How I wounder what you are\n"
     ]
    }
   ],
   "source": [
    "# Question # 01\n",
    "# Write a python program to print the following string in a specific format\n",
    "\n",
    "\n",
    "print(\"Twinkel,twinkel,little star \\n         How I wounder what you are! \\n             Up above the world so high, \\n             Like a diamond in the sky. \\nTwinkel,twinkel,little star, \\n         How I wounder what you are\");"
   ]
  },
  {
   "cell_type": "code",
   "execution_count": 3,
   "id": "a0fa7677",
   "metadata": {},
   "outputs": [
    {
     "name": "stdout",
     "output_type": "stream",
     "text": [
      "Answer no 2 :\n",
      "Python version : 3.8.8 (default, Apr 13 2021, 15:08:03) [MSC v.1916 64 bit (AMD64)]\n"
     ]
    }
   ],
   "source": [
    "# Question # 02\n",
    "# Write a pythone program to get the python version you are using\n",
    "\n",
    "import sys\n",
    "print(\"Answer no 2 :\")\n",
    "print(\"Python version : \"+ sys.version)"
   ]
  },
  {
   "cell_type": "code",
   "execution_count": 4,
   "id": "d712804b",
   "metadata": {},
   "outputs": [
    {
     "name": "stdout",
     "output_type": "stream",
     "text": [
      "Answer no 3 :\n",
      "2021-12-29 15:38:56.435301\n"
     ]
    }
   ],
   "source": [
    "# Question # 03\n",
    "# Write a python program to display the current date and time.\n",
    "\n",
    "import datetime\n",
    "print(\"Answer no 3 :\");\n",
    "print(datetime.datetime.now());\n"
   ]
  },
  {
   "cell_type": "code",
   "execution_count": 11,
   "id": "09278463",
   "metadata": {},
   "outputs": [
    {
     "name": "stdout",
     "output_type": "stream",
     "text": [
      "Answer no 4 :\n",
      "Enter your radius: 4\n",
      "517.28\n"
     ]
    }
   ],
   "source": [
    "# Question # 04\n",
    "# Write a python program which accept the radius of a circle from the user and compute the area\n",
    "\n",
    "pi = 32.33;\n",
    "print(\"Answer no 4 :\")\n",
    "r = int(input(\"Enter your radius: \"));\n",
    "a = pi*r*r\n",
    "print(a);\n"
   ]
  },
  {
   "cell_type": "code",
   "execution_count": 7,
   "id": "a432e73b",
   "metadata": {},
   "outputs": [
    {
     "name": "stdout",
     "output_type": "stream",
     "text": [
      "Answer no 5 :\n",
      "Enter your first name : jahanzaib\n",
      "Enter your last name : muhammad junaid\n",
      "First & Last name reverse order is muhammad junaid jahanzaib\n"
     ]
    }
   ],
   "source": [
    "# Question # 05\n",
    "# Write a python program which assept the user's first and last name and print them in revarse the order with a space between them\n",
    "\n",
    "print(\"Answer no 5 :\")\n",
    "firstname = input(\"Enter your first name : \");\n",
    "lastname = input(\"Enter your last name : \");\n",
    "print(\"First & Last name reverse order is \"+lastname+ \" \" + firstname);"
   ]
  },
  {
   "cell_type": "code",
   "execution_count": 12,
   "id": "4bd68b30",
   "metadata": {},
   "outputs": [
    {
     "name": "stdout",
     "output_type": "stream",
     "text": [
      "Answer no 6 :\n",
      "Enter a number: 2\n",
      "Enter a number: 6\n",
      "The sum of number is: 8\n"
     ]
    }
   ],
   "source": [
    "# Question # 06\n",
    "# Wrie a python program which take two input from user and print addition.\n",
    "\n",
    "print(\"Answer no 6 :\")\n",
    "a = int(input(\"Enter a number: \"));\n",
    "b = int(input(\"Enter a number: \"));\n",
    "c = a+b;\n",
    "print(\"The sum of number is:\" , c);"
   ]
  },
  {
   "cell_type": "code",
   "execution_count": null,
   "id": "3279da49",
   "metadata": {},
   "outputs": [],
   "source": []
  }
 ],
 "metadata": {
  "kernelspec": {
   "display_name": "Python 3",
   "language": "python",
   "name": "python3"
  },
  "language_info": {
   "codemirror_mode": {
    "name": "ipython",
    "version": 3
   },
   "file_extension": ".py",
   "mimetype": "text/x-python",
   "name": "python",
   "nbconvert_exporter": "python",
   "pygments_lexer": "ipython3",
   "version": "3.8.8"
  }
 },
 "nbformat": 4,
 "nbformat_minor": 5
}
